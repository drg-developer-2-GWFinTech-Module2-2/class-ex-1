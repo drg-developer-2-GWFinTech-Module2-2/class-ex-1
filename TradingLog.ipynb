{
 "cells": [
  {
   "cell_type": "code",
   "execution_count": 13,
   "metadata": {},
   "outputs": [
    {
     "name": "stdout",
     "output_type": "stream",
     "text": [
      "Number of days = 20\n",
      "Cumulative return = $1139\n",
      "Daily average = $56.95\n",
      "Worst daily return = $-650\n",
      "Best daily return = $613\n",
      "5231\n"
     ]
    }
   ],
   "source": [
    "# -*- coding: utf-8 -*-\n",
    "\"\"\"\n",
    "Student Do: Trading Log.\n",
    "This script demonstrates how to perform basic analysis of trading profits/losses\n",
    "over the course of a month (20 business days).\n",
    "\"\"\"\n",
    "\n",
    "# @TODO: Initialize the metric variables\n",
    "total = 0\n",
    "count = 0\n",
    "minimum = 0\n",
    "maximum = 0\n",
    "\n",
    "# @TODO: Initialize lists to hold profitable and unprofitable day profits/losses\n",
    "\n",
    "\n",
    "\n",
    "\n",
    "# List of trading profits/losses\n",
    "trading_pnl = [ -224,  352, 252, 354, -544,\n",
    "                -650,   56, 123, -43,  254,\n",
    "                 325, -123,  47, 321,  123,\n",
    "                 133, -151, 613, 232, -311 ]\n",
    "\n",
    "profitable_days = []\n",
    "unprofitable_days = []\n",
    "\n",
    "# @TODO: Iterate over each element of the list\n",
    "for daily_pnl in trading_pnl:\n",
    "\n",
    "    # @TODO: Cumulatively sum up the total and count\n",
    "    total += daily_pnl\n",
    "    count += 1\n",
    "\n",
    "    # @TODO: Write logic to determine minimum and maximum values\n",
    "    if daily_pnl > maximum:\n",
    "        maximum = daily_pnl\n",
    "\n",
    "    if daily_pnl < minimum:\n",
    "        minimum = daily_pnl\n",
    "\n",
    "    # @TODO: Write logic to determine profitable vs. unprofitable days\n",
    "    if daily_pnl > 0:\n",
    "        profitable_days.append(daily_pnl)\n",
    "    if daily_pnl <= 0:\n",
    "        unprofitable_days.append(daily_pnl)\n",
    "\n",
    "\n",
    "# @TODO: Calculate the average\n",
    "average = total / count\n",
    "\n",
    "# @TODO: Calculate count metrics\n",
    "num_profitable_days = len(profitable_days)\n",
    "num_unprofitable_days = len(unprofitable_days)\n",
    "\n",
    "# @TODO: Calculate percentage metrics\n",
    "\n",
    "\n",
    "\n",
    "# @TODO: Print out the summary statistics\n",
    "print(f\"Number of days = {count}\")\n",
    "print(f\"Cumulative return = ${total}\")\n",
    "print(f\"Daily average = ${average}\")\n",
    "print(f\"Worst daily return = ${minimum}\")\n",
    "print(f\"Best daily return = ${maximum}\")\n",
    "\n",
    "print(sum(profitable_days) - sum(unprofitable_days))\n"
   ]
  },
  {
   "cell_type": "code",
   "execution_count": null,
   "metadata": {},
   "outputs": [],
   "source": []
  },
  {
   "cell_type": "code",
   "execution_count": null,
   "metadata": {},
   "outputs": [],
   "source": []
  },
  {
   "cell_type": "code",
   "execution_count": null,
   "metadata": {},
   "outputs": [],
   "source": []
  },
  {
   "cell_type": "code",
   "execution_count": null,
   "metadata": {},
   "outputs": [],
   "source": []
  },
  {
   "cell_type": "code",
   "execution_count": null,
   "metadata": {},
   "outputs": [],
   "source": []
  },
  {
   "cell_type": "code",
   "execution_count": null,
   "metadata": {},
   "outputs": [],
   "source": []
  },
  {
   "cell_type": "code",
   "execution_count": null,
   "metadata": {},
   "outputs": [],
   "source": []
  },
  {
   "cell_type": "code",
   "execution_count": null,
   "metadata": {},
   "outputs": [],
   "source": []
  },
  {
   "cell_type": "code",
   "execution_count": null,
   "metadata": {},
   "outputs": [],
   "source": []
  },
  {
   "cell_type": "code",
   "execution_count": null,
   "metadata": {},
   "outputs": [],
   "source": []
  },
  {
   "cell_type": "code",
   "execution_count": null,
   "metadata": {},
   "outputs": [],
   "source": []
  },
  {
   "cell_type": "code",
   "execution_count": null,
   "metadata": {},
   "outputs": [],
   "source": []
  },
  {
   "cell_type": "code",
   "execution_count": null,
   "metadata": {},
   "outputs": [],
   "source": []
  }
 ],
 "metadata": {
  "kernelspec": {
   "display_name": "Python 3",
   "language": "python",
   "name": "python3"
  },
  "language_info": {
   "codemirror_mode": {
    "name": "ipython",
    "version": 3
   },
   "file_extension": ".py",
   "mimetype": "text/x-python",
   "name": "python",
   "nbconvert_exporter": "python",
   "pygments_lexer": "ipython3",
   "version": "3.7.7"
  }
 },
 "nbformat": 4,
 "nbformat_minor": 4
}
