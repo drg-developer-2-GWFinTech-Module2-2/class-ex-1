{
 "cells": [
  {
   "cell_type": "code",
   "execution_count": 19,
   "metadata": {},
   "outputs": [
    {
     "name": "stdout",
     "output_type": "stream",
     "text": [
      "['Water', 'Butter']\n",
      "['Eggs', 'Apples', 'Cinnamon', 'Sugar', 'Milk']\n",
      "['Butter', 'Apples', 'Sugar']\n",
      "['Water', 'Butter', 'Eggs', 'Apples', 'Cinnamon', 'Sugar', 'Milk', 'Flour']\n",
      "['Water', 'Butter', 'Eggs', 'Gala Apples', 'Cinnamon', 'Sugar', 'Milk', 'Flour']\n",
      "8\n"
     ]
    }
   ],
   "source": [
    "# -*- coding: utf-8 -*-\n",
    "\"\"\"\n",
    "Student Do: Grocery List.\n",
    "This script showcases basic operations of Python Lists to help Sally\n",
    "organize her grocery shopping list.\n",
    "\"\"\"\n",
    "\n",
    "# @TODO: Create a list of groceries\n",
    "grocery_list = [ \"Water\", \"Butter\", \"Eggs\", \"Apples\", \"Cinnamon\", \"Sugar\", \"Milk\"]\n",
    "\n",
    "\n",
    "\n",
    "\n",
    "# @TODO: Find the first two items on the list\n",
    "print(grocery_list[:2])\n",
    "\n",
    "\n",
    "\n",
    "# @TODO: Find the last five items on the list\n",
    "print(grocery_list[-5:])\n",
    "\n",
    "\n",
    "\n",
    "\n",
    "# @TODO: Find every other item on the list, starting from the second item\n",
    "print(grocery_list[1::2])\n",
    "\n",
    "\n",
    "\n",
    "\n",
    "# @TODO: Add an element to the end of the list\n",
    "grocery_list += [ \"Flour\" ]\n",
    "print(grocery_list)\n",
    "\n",
    "\n",
    "\n",
    "\n",
    "# @TODO: Changes a specified element within the list at the given index\n",
    "grocery_list[3] = \"Gala Apples\"\n",
    "print(grocery_list)\n",
    "\n",
    "\n",
    "\n",
    "\n",
    "# @TODO: Calculate how many items you have in the list\n",
    "print(len(grocery_list))\n"
   ]
  },
  {
   "cell_type": "code",
   "execution_count": null,
   "metadata": {},
   "outputs": [],
   "source": []
  },
  {
   "cell_type": "code",
   "execution_count": null,
   "metadata": {},
   "outputs": [],
   "source": []
  },
  {
   "cell_type": "code",
   "execution_count": null,
   "metadata": {},
   "outputs": [],
   "source": []
  },
  {
   "cell_type": "code",
   "execution_count": null,
   "metadata": {},
   "outputs": [],
   "source": []
  },
  {
   "cell_type": "code",
   "execution_count": null,
   "metadata": {},
   "outputs": [],
   "source": []
  },
  {
   "cell_type": "code",
   "execution_count": null,
   "metadata": {},
   "outputs": [],
   "source": []
  },
  {
   "cell_type": "code",
   "execution_count": null,
   "metadata": {},
   "outputs": [],
   "source": []
  },
  {
   "cell_type": "code",
   "execution_count": null,
   "metadata": {},
   "outputs": [],
   "source": []
  },
  {
   "cell_type": "code",
   "execution_count": null,
   "metadata": {},
   "outputs": [],
   "source": []
  },
  {
   "cell_type": "code",
   "execution_count": null,
   "metadata": {},
   "outputs": [],
   "source": []
  },
  {
   "cell_type": "code",
   "execution_count": null,
   "metadata": {},
   "outputs": [],
   "source": []
  },
  {
   "cell_type": "code",
   "execution_count": null,
   "metadata": {},
   "outputs": [],
   "source": []
  },
  {
   "cell_type": "code",
   "execution_count": null,
   "metadata": {},
   "outputs": [],
   "source": []
  },
  {
   "cell_type": "code",
   "execution_count": null,
   "metadata": {},
   "outputs": [],
   "source": []
  },
  {
   "cell_type": "code",
   "execution_count": null,
   "metadata": {},
   "outputs": [],
   "source": []
  },
  {
   "cell_type": "code",
   "execution_count": null,
   "metadata": {},
   "outputs": [],
   "source": []
  },
  {
   "cell_type": "code",
   "execution_count": null,
   "metadata": {},
   "outputs": [],
   "source": []
  },
  {
   "cell_type": "code",
   "execution_count": null,
   "metadata": {},
   "outputs": [],
   "source": []
  }
 ],
 "metadata": {
  "kernelspec": {
   "display_name": "Python 3",
   "language": "python",
   "name": "python3"
  },
  "language_info": {
   "codemirror_mode": {
    "name": "ipython",
    "version": 3
   },
   "file_extension": ".py",
   "mimetype": "text/x-python",
   "name": "python",
   "nbconvert_exporter": "python",
   "pygments_lexer": "ipython3",
   "version": "3.7.7"
  }
 },
 "nbformat": 4,
 "nbformat_minor": 4
}
